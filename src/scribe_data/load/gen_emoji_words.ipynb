{
 "cells": [
  {
   "cell_type": "markdown",
   "id": "743abe55",
   "metadata": {
    "toc": true
   },
   "source": [
    "<h1>Table of Contents<span class=\"tocSkip\"></span></h1>\n",
    "<div class=\"toc\"><ul class=\"toc-item\"></ul></div>"
   ]
  },
  {
   "cell_type": "markdown",
   "id": "592e4b36",
   "metadata": {},
   "source": [
    "**Scribe Emoji Word Generation**\n",
    "\n",
    "This notebook is used to run the functions found in Scribe-Data to create a corpus of emojis and the words that will trigger them as autosuggestions."
   ]
  },
  {
   "cell_type": "code",
   "execution_count": 2,
   "id": "1c8c7a44",
   "metadata": {
    "ExecuteTime": {
     "end_time": "2022-11-01T22:29:08.693070Z",
     "start_time": "2022-11-01T22:29:08.687251Z"
    }
   },
   "outputs": [
    {
     "data": {
      "text/html": [
       "<style>.container { width:99% !important; }</style>"
      ],
      "text/plain": [
       "<IPython.core.display.HTML object>"
      ]
     },
     "metadata": {},
     "output_type": "display_data"
    }
   ],
   "source": [
    "import os\n",
    "import sys\n",
    "import json\n",
    "\n",
    "from tqdm.auto import tqdm\n",
    "from IPython.core.display import display, HTML\n",
    "display(HTML(\"<style>.container { width:99% !important; }</style>\"))"
   ]
  },
  {
   "cell_type": "code",
   "execution_count": 3,
   "id": "14a5bf58",
   "metadata": {
    "ExecuteTime": {
     "end_time": "2022-11-01T22:29:09.245932Z",
     "start_time": "2022-11-01T22:29:09.241875Z"
    }
   },
   "outputs": [],
   "source": [
    "pwd = os.path.dirname(os.path.realpath(\"gen_emoji_words.ipynb\"))\n",
    "pwd = pwd.split(\"scribe_data\")[0]\n",
    "sys.path.append(pwd)"
   ]
  },
  {
   "cell_type": "code",
   "execution_count": null,
   "id": "af62c758",
   "metadata": {},
   "outputs": [],
   "source": []
  }
 ],
 "metadata": {
  "kernelspec": {
   "display_name": "Python [conda env:scribe-data-dev] *",
   "language": "python",
   "name": "conda-env-scribe-data-dev-py"
  },
  "language_info": {
   "codemirror_mode": {
    "name": "ipython",
    "version": 3
   },
   "file_extension": ".py",
   "mimetype": "text/x-python",
   "name": "python",
   "nbconvert_exporter": "python",
   "pygments_lexer": "ipython3",
   "version": "3.7.13"
  },
  "toc": {
   "base_numbering": 1,
   "nav_menu": {},
   "number_sections": true,
   "sideBar": true,
   "skip_h1_title": false,
   "title_cell": "Table of Contents",
   "title_sidebar": "Contents",
   "toc_cell": true,
   "toc_position": {},
   "toc_section_display": true,
   "toc_window_display": false
  }
 },
 "nbformat": 4,
 "nbformat_minor": 5
}

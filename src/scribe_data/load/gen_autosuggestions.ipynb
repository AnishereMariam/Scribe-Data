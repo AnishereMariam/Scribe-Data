{
 "cells": [
  {
   "cell_type": "markdown",
   "id": "743abe55",
   "metadata": {
    "toc": true
   },
   "source": [
    "<h1>Table of Contents<span class=\"tocSkip\"></span></h1>\n",
    "<div class=\"toc\"><ul class=\"toc-item\"><li><span><a href=\"#Download-Wiki\" data-toc-modified-id=\"Download-Wiki-1\"><span class=\"toc-item-num\">1&nbsp;&nbsp;</span>Download Wiki</a></span></li><li><span><a href=\"#Process-and-Clean\" data-toc-modified-id=\"Process-and-Clean-2\"><span class=\"toc-item-num\">2&nbsp;&nbsp;</span>Process and Clean</a></span></li><li><span><a href=\"#Generate-and-Upload\" data-toc-modified-id=\"Generate-and-Upload-3\"><span class=\"toc-item-num\">3&nbsp;&nbsp;</span>Generate and Upload</a></span></li></ul></div>"
   ]
  },
  {
   "cell_type": "markdown",
   "id": "592e4b36",
   "metadata": {},
   "source": [
    "**Scribe Autosuggest Generation**\n",
    "\n",
    "This notebook is used to run the functions found in Scribe-Data to extract, clean and load autosuggestion files into Scribe apps."
   ]
  },
  {
   "cell_type": "code",
   "execution_count": 1,
   "id": "1c8c7a44",
   "metadata": {
    "ExecuteTime": {
     "end_time": "2022-09-03T18:21:14.379289Z",
     "start_time": "2022-09-03T18:21:14.370017Z"
    }
   },
   "outputs": [
    {
     "data": {
      "text/html": [
       "<style>.container { width:99% !important; }</style>"
      ],
      "text/plain": [
       "<IPython.core.display.HTML object>"
      ]
     },
     "metadata": {},
     "output_type": "display_data"
    }
   ],
   "source": [
    "import os\n",
    "import sys\n",
    "import json\n",
    "import warnings\n",
    "\n",
    "warnings.filterwarnings(\"ignore\", message=r\"Passing\", category=FutureWarning)\n",
    "\n",
    "from IPython.core.display import display, HTML\n",
    "display(HTML(\"<style>.container { width:99% !important; }</style>\"))"
   ]
  },
  {
   "cell_type": "code",
   "execution_count": 2,
   "id": "14a5bf58",
   "metadata": {
    "ExecuteTime": {
     "end_time": "2022-09-03T18:21:14.522903Z",
     "start_time": "2022-09-03T18:21:14.519719Z"
    }
   },
   "outputs": [],
   "source": [
    "pwd = os.path.dirname(os.path.realpath(\"gen_autosuggestions.ipynb\"))\n",
    "pwd = pwd.split(\"scribe_data\")[0]\n",
    "sys.path.append(pwd)"
   ]
  },
  {
   "cell_type": "code",
   "execution_count": 3,
   "id": "4c7939bd",
   "metadata": {
    "ExecuteTime": {
     "end_time": "2022-09-03T18:21:18.224044Z",
     "start_time": "2022-09-03T18:21:14.701411Z"
    }
   },
   "outputs": [],
   "source": [
    "from scribe_data.extract_transform.extract_wiki import download_wiki, parse_to_ndjson\n",
    "from scribe_data.extract_transform.process_wiki import clean, gen_autosuggestions"
   ]
  },
  {
   "cell_type": "markdown",
   "id": "2add942e",
   "metadata": {},
   "source": [
    "# Download Wiki"
   ]
  },
  {
   "cell_type": "code",
   "execution_count": 4,
   "id": "11546a55",
   "metadata": {
    "ExecuteTime": {
     "end_time": "2022-09-03T18:21:18.982876Z",
     "start_time": "2022-09-03T18:21:18.225865Z"
    }
   },
   "outputs": [
    {
     "name": "stdout",
     "output_type": "stream",
     "text": [
      "Files already available in the ./dewiki_dump directory.\n"
     ]
    },
    {
     "data": {
      "text/plain": [
       "1"
      ]
     },
     "execution_count": 4,
     "metadata": {},
     "output_type": "execute_result"
    }
   ],
   "source": [
    "files = download_wiki(\n",
    "    language=\"de\", target_dir=\"./dewiki_dump\", file_limit=1, dump_id=False\n",
    ")\n",
    "len(files)"
   ]
  },
  {
   "cell_type": "code",
   "execution_count": 5,
   "id": "dfab9ea2",
   "metadata": {
    "ExecuteTime": {
     "end_time": "2022-09-03T18:21:18.989394Z",
     "start_time": "2022-09-03T18:21:18.986144Z"
    }
   },
   "outputs": [
    {
     "name": "stdout",
     "output_type": "stream",
     "text": [
      "File ./dewiki.ndjson with Wikipedia articles already exists\n"
     ]
    }
   ],
   "source": [
    "parse_to_ndjson(\n",
    "    output_path=\"./dewiki.ndjson\",\n",
    "    input_dir=\"./dewiki_dump\",\n",
    "    partitions_dir=\"./dewiki_partitions\",\n",
    "    article_limit=50,\n",
    "    delete_parsed_files=True,\n",
    "    multicore=True,\n",
    "    verbose=True,\n",
    ")"
   ]
  },
  {
   "cell_type": "markdown",
   "id": "3c3f2f51",
   "metadata": {},
   "source": [
    "# Process and Clean"
   ]
  },
  {
   "cell_type": "code",
   "execution_count": 6,
   "id": "205a01b4",
   "metadata": {
    "ExecuteTime": {
     "end_time": "2022-09-03T18:21:19.010693Z",
     "start_time": "2022-09-03T18:21:18.992221Z"
    }
   },
   "outputs": [
    {
     "name": "stdout",
     "output_type": "stream",
     "text": [
      "Found a total of 50 articles.\n"
     ]
    }
   ],
   "source": [
    "with open(\"./dewiki.ndjson\", \"r\") as fin:\n",
    "    articles = [json.loads(l) for l in fin]\n",
    "\n",
    "print(f\"Found a total of {len(articles)} articles.\")"
   ]
  },
  {
   "cell_type": "code",
   "execution_count": 7,
   "id": "cd033937",
   "metadata": {
    "ExecuteTime": {
     "end_time": "2022-09-03T18:21:19.016191Z",
     "start_time": "2022-09-03T18:21:19.013260Z"
    }
   },
   "outputs": [],
   "source": [
    "article_texts = [a[1] for a in articles]"
   ]
  },
  {
   "cell_type": "code",
   "execution_count": 8,
   "id": "ea9ea16c",
   "metadata": {
    "ExecuteTime": {
     "end_time": "2022-09-03T18:21:19.253867Z",
     "start_time": "2022-09-03T18:21:19.019092Z"
    }
   },
   "outputs": [
    {
     "data": {
      "application/vnd.jupyter.widget-view+json": {
       "model_id": "c663e41850be484eba630e3325a7d813",
       "version_major": 2,
       "version_minor": 0
      },
      "text/plain": [
       "Articles cleaned:   0%|          | 0/50 [00:00<?, ?article/s]"
      ]
     },
     "metadata": {},
     "output_type": "display_data"
    }
   ],
   "source": [
    "text_corpus = clean(\n",
    "    texts=article_texts,\n",
    "    ignore_words=None,\n",
    "    sample_size=1,\n",
    "    verbose=True,\n",
    ")"
   ]
  },
  {
   "cell_type": "markdown",
   "id": "593e855d",
   "metadata": {},
   "source": [
    "# Generate and Upload"
   ]
  },
  {
   "cell_type": "code",
   "execution_count": 9,
   "id": "cda9e874",
   "metadata": {
    "ExecuteTime": {
     "end_time": "2022-09-03T18:21:27.856367Z",
     "start_time": "2022-09-03T18:21:27.768940Z"
    }
   },
   "outputs": [
    {
     "name": "stdout",
     "output_type": "stream",
     "text": [
      "Autosuggestions for German saved to Scribe app directories.\n"
     ]
    }
   ],
   "source": [
    "autosuggest_dict = gen_autosuggestions(\n",
    "    text_corpus, language=\"German\", num_words=5, update_scribe_apps=False\n",
    ")"
   ]
  },
  {
   "cell_type": "code",
   "execution_count": 10,
   "id": "c8c385b7",
   "metadata": {
    "ExecuteTime": {
     "end_time": "2022-09-03T18:18:57.225867Z",
     "start_time": "2022-09-03T18:18:57.223066Z"
    }
   },
   "outputs": [],
   "source": [
    "autosuggest_dict"
   ]
  },
  {
   "cell_type": "code",
   "execution_count": null,
   "id": "af62c758",
   "metadata": {},
   "outputs": [],
   "source": []
  }
 ],
 "metadata": {
  "kernelspec": {
   "display_name": "wikirec-dev",
   "language": "python",
   "name": "wikirec-dev"
  },
  "language_info": {
   "codemirror_mode": {
    "name": "ipython",
    "version": 3
   },
   "file_extension": ".py",
   "mimetype": "text/x-python",
   "name": "python",
   "nbconvert_exporter": "python",
   "pygments_lexer": "ipython3",
   "version": "3.7.10"
  },
  "toc": {
   "base_numbering": 1,
   "nav_menu": {},
   "number_sections": true,
   "sideBar": true,
   "skip_h1_title": false,
   "title_cell": "Table of Contents",
   "title_sidebar": "Contents",
   "toc_cell": true,
   "toc_position": {},
   "toc_section_display": true,
   "toc_window_display": false
  }
 },
 "nbformat": 4,
 "nbformat_minor": 5
}

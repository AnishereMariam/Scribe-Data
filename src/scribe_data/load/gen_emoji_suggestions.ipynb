{
 "cells": [
  {
   "cell_type": "markdown",
   "id": "743abe55",
   "metadata": {
    "toc": true
   },
   "source": [
    "<h1>Table of Contents<span class=\"tocSkip\"></span></h1>\n",
    "<div class=\"toc\"><ul class=\"toc-item\"><li><span><a href=\"#Download-Latest-Unicode\" data-toc-modified-id=\"Download-Latest-Unicode-1\"><span class=\"toc-item-num\">1&nbsp;&nbsp;</span>Download Latest Unicode</a></span></li><li><span><a href=\"#Generate\" data-toc-modified-id=\"Generate-2\"><span class=\"toc-item-num\">2&nbsp;&nbsp;</span>Generate</a></span></li></ul></div>"
   ]
  },
  {
   "cell_type": "markdown",
   "id": "592e4b36",
   "metadata": {},
   "source": [
    "**Scribe Emoji Suggestion Generation**\n",
    "\n",
    "This notebook is used to run the functions found in Scribe-Data to create a corpus of words and the emojis that they can trigger as autosuggestions."
   ]
  },
  {
   "cell_type": "code",
   "execution_count": 5,
   "id": "1c8c7a44",
   "metadata": {
    "ExecuteTime": {
     "end_time": "2022-11-23T22:42:37.956338Z",
     "start_time": "2022-11-23T22:42:37.951329Z"
    }
   },
   "outputs": [
    {
     "data": {
      "text/html": [
       "<style>.container { width:99% !important; }</style>"
      ],
      "text/plain": [
       "<IPython.core.display.HTML object>"
      ]
     },
     "metadata": {},
     "output_type": "display_data"
    }
   ],
   "source": [
    "import os\n",
    "import sys\n",
    "import json\n",
    "\n",
    "from tqdm.auto import tqdm\n",
    "from IPython.display import display, HTML\n",
    "display(HTML(\"<style>.container { width:99% !important; }</style>\"))"
   ]
  },
  {
   "cell_type": "code",
   "execution_count": 6,
   "id": "14a5bf58",
   "metadata": {
    "ExecuteTime": {
     "end_time": "2022-11-23T22:42:51.769103Z",
     "start_time": "2022-11-23T22:42:51.765539Z"
    }
   },
   "outputs": [],
   "source": [
    "pwd = os.path.dirname(os.path.realpath(\"gen_emoji_suggestions.ipynb\"))\n",
    "pwd = pwd.split(\"scribe_data\")[0]\n",
    "sys.path.append(pwd)"
   ]
  },
  {
   "cell_type": "code",
   "execution_count": 7,
   "id": "9ca127ab",
   "metadata": {
    "ExecuteTime": {
     "end_time": "2022-11-23T22:42:51.942414Z",
     "start_time": "2022-11-23T22:42:51.914211Z"
    }
   },
   "outputs": [
    {
     "ename": "ModuleNotFoundError",
     "evalue": "No module named 'icu'",
     "output_type": "error",
     "traceback": [
      "\u001b[0;31m---------------------------------------------------------------------------\u001b[0m",
      "\u001b[0;31mModuleNotFoundError\u001b[0m                       Traceback (most recent call last)",
      "Cell \u001b[0;32mIn [7], line 1\u001b[0m\n\u001b[0;32m----> 1\u001b[0m \u001b[38;5;28;01mfrom\u001b[39;00m \u001b[38;5;21;01mscribe_data\u001b[39;00m\u001b[38;5;21;01m.\u001b[39;00m\u001b[38;5;21;01mextract_transform\u001b[39;00m\u001b[38;5;21;01m.\u001b[39;00m\u001b[38;5;21;01mprocess_unicode\u001b[39;00m \u001b[38;5;28;01mimport\u001b[39;00m gen_emoji_autosuggestions\n",
      "File \u001b[0;32m~/Documents/learning/coding/scribe-org/Scribe-Data/src/scribe_data/extract_transform/process_unicode.py:16\u001b[0m\n\u001b[1;32m     13\u001b[0m \u001b[38;5;28;01mimport\u001b[39;00m \u001b[38;5;21;01mjson\u001b[39;00m\n\u001b[1;32m     15\u001b[0m \u001b[38;5;28;01mfrom\u001b[39;00m \u001b[38;5;21;01m.\u001b[39;00m \u001b[38;5;28;01mimport\u001b[39;00m _resources\n\u001b[0;32m---> 16\u001b[0m \u001b[38;5;28;01mfrom\u001b[39;00m \u001b[38;5;21;01micu\u001b[39;00m \u001b[38;5;28;01mimport\u001b[39;00m Char, UProperty\n\u001b[1;32m     17\u001b[0m \u001b[38;5;28;01mfrom\u001b[39;00m \u001b[38;5;21;01mimportlib\u001b[39;00m\u001b[38;5;21;01m.\u001b[39;00m\u001b[38;5;21;01mresources\u001b[39;00m \u001b[38;5;28;01mimport\u001b[39;00m files\n\u001b[1;32m     18\u001b[0m \u001b[38;5;28;01mfrom\u001b[39;00m \u001b[38;5;21;01mscribe_data\u001b[39;00m\u001b[38;5;21;01m.\u001b[39;00m\u001b[38;5;21;01mload\u001b[39;00m\u001b[38;5;21;01m.\u001b[39;00m\u001b[38;5;21;01mupdate_utils\u001b[39;00m \u001b[38;5;28;01mimport\u001b[39;00m get_language_iso, get_path_from_process_unicode\n",
      "\u001b[0;31mModuleNotFoundError\u001b[0m: No module named 'icu'"
     ]
    }
   ],
   "source": [
    "from scribe_data.extract_transform.process_unicode import gen_emoji_autosuggestions"
   ]
  },
  {
   "cell_type": "markdown",
   "id": "2add942e",
   "metadata": {},
   "source": [
    "# Download Latest Unicode"
   ]
  },
  {
   "cell_type": "code",
   "execution_count": null,
   "id": "8e166da1",
   "metadata": {},
   "outputs": [],
   "source": [
    "%%bash\n",
    ". $HOME/.nvm/nvm.sh # Pick up the 'npm' command\n",
    "npm install"
   ]
  },
  {
   "cell_type": "markdown",
   "id": "6f5b3685",
   "metadata": {},
   "source": [
    "# Generate"
   ]
  },
  {
   "cell_type": "code",
   "execution_count": null,
   "id": "fe631670",
   "metadata": {},
   "outputs": [],
   "source": [
    "# Languages: French, German, Italian, Portuguese, Russian, Spanish, Swedish\n",
    "language = \"French\"\n",
    "autosuggest_dict = gen_emoji_autosuggestions(\n",
    "    language=language\n",
    ")"
   ]
  }
 ],
 "metadata": {
  "kernelspec": {
   "display_name": "Python [conda env:scribe-data-dev] *",
   "language": "python",
   "name": "conda-env-scribe-data-dev-py"
  },
  "language_info": {
   "codemirror_mode": {
    "name": "ipython",
    "version": 3
   },
   "file_extension": ".py",
   "mimetype": "text/x-python",
   "name": "python",
   "nbconvert_exporter": "python",
   "pygments_lexer": "ipython3",
   "version": "3.9.15"
  },
  "toc": {
   "base_numbering": 1,
   "nav_menu": {},
   "number_sections": true,
   "sideBar": true,
   "skip_h1_title": false,
   "title_cell": "Table of Contents",
   "title_sidebar": "Contents",
   "toc_cell": true,
   "toc_position": {},
   "toc_section_display": true,
   "toc_window_display": false
  }
 },
 "nbformat": 4,
 "nbformat_minor": 5
}

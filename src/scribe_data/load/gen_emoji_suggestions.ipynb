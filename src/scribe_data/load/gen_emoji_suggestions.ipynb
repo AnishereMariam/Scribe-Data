{
 "cells": [
  {
   "cell_type": "markdown",
   "id": "743abe55",
   "metadata": {
    "toc": true
   },
   "source": [
    "<h1>Table of Contents<span class=\"tocSkip\"></span></h1>\n",
    "<div class=\"toc\"><ul class=\"toc-item\"><li><span><a href=\"#Download-Latest-Unicode\" data-toc-modified-id=\"Download-Latest-Unicode-1\"><span class=\"toc-item-num\">1&nbsp;&nbsp;</span>Download Latest Unicode</a></span></li><li><span><a href=\"#Generate\" data-toc-modified-id=\"Generate-2\"><span class=\"toc-item-num\">2&nbsp;&nbsp;</span>Generate</a></span></li></ul></div>"
   ]
  },
  {
   "cell_type": "markdown",
   "id": "592e4b36",
   "metadata": {},
   "source": [
    "**Scribe Emoji Suggestion Generation**\n",
    "\n",
    "This notebook is used to run the functions found in Scribe-Data to create a corpus of words and the emojis that they can trigger as autosuggestions."
   ]
  },
  {
   "cell_type": "code",
   "execution_count": 1,
   "id": "1c8c7a44",
   "metadata": {
    "ExecuteTime": {
     "end_time": "2023-03-04T18:34:36.811552Z",
     "start_time": "2023-03-04T18:34:36.660234Z"
    }
   },
   "outputs": [
    {
     "data": {
      "text/html": [
       "<style>.container { width:99% !important; }</style>"
      ],
      "text/plain": [
       "<IPython.core.display.HTML object>"
      ]
     },
     "metadata": {},
     "output_type": "display_data"
    }
   ],
   "source": [
    "import os\n",
    "import sys\n",
    "import json\n",
    "\n",
    "from tqdm.auto import tqdm\n",
    "from IPython.display import display, HTML\n",
    "display(HTML(\"<style>.container { width:99% !important; }</style>\"))"
   ]
  },
  {
   "cell_type": "code",
   "execution_count": 2,
   "id": "14a5bf58",
   "metadata": {
    "ExecuteTime": {
     "end_time": "2023-03-04T18:34:38.911094Z",
     "start_time": "2023-03-04T18:34:38.907656Z"
    }
   },
   "outputs": [],
   "source": [
    "pwd = os.path.dirname(os.path.realpath(\"gen_emoji_suggestions.ipynb\"))\n",
    "pwd = pwd.split(\"scribe_data\")[0]\n",
    "sys.path.append(pwd)"
   ]
  },
  {
   "cell_type": "code",
   "execution_count": 3,
   "id": "9ca127ab",
   "metadata": {
    "ExecuteTime": {
     "end_time": "2023-03-04T18:34:41.531237Z",
     "start_time": "2023-03-04T18:34:41.299515Z"
    }
   },
   "outputs": [],
   "source": [
    "from scribe_data.extract_transform.process_unicode import gen_emoji_autosuggestions"
   ]
  },
  {
   "cell_type": "markdown",
   "id": "2add942e",
   "metadata": {},
   "source": [
    "# Download Latest Unicode"
   ]
  },
  {
   "cell_type": "code",
   "execution_count": 4,
   "id": "8e166da1",
   "metadata": {
    "ExecuteTime": {
     "end_time": "2023-03-04T18:34:48.838729Z",
     "start_time": "2023-03-04T18:34:46.600152Z"
    }
   },
   "outputs": [
    {
     "name": "stderr",
     "output_type": "stream",
     "text": [
      "bash: line 1: /Users/andrewtavis/.nvm/nvm.sh: No such file or directory\n"
     ]
    },
    {
     "name": "stdout",
     "output_type": "stream",
     "text": [
      "\n",
      "up to date, audited 3 packages in 823ms\n",
      "\n",
      "found 0 vulnerabilities\n"
     ]
    }
   ],
   "source": [
    "%%bash\n",
    ". $HOME/.nvm/nvm.sh # Pick up the 'npm' command\n",
    "npm install"
   ]
  },
  {
   "cell_type": "markdown",
   "id": "6f5b3685",
   "metadata": {},
   "source": [
    "# Generate"
   ]
  },
  {
   "cell_type": "code",
   "execution_count": 11,
   "id": "fe631670",
   "metadata": {
    "ExecuteTime": {
     "end_time": "2023-03-04T18:47:48.107376Z",
     "start_time": "2023-03-04T18:47:47.961026Z"
    }
   },
   "outputs": [
    {
     "data": {
      "application/vnd.jupyter.widget-view+json": {
       "model_id": "5fe510dfa1f942cabea56109ec64d97b",
       "version_major": 2,
       "version_minor": 0
      },
      "text/plain": [
       "Characters processed from 'annotations' CLDR file for Swedish:   0%|          | 0/1930 [00:00<?, ?cldr charact…"
      ]
     },
     "metadata": {},
     "output_type": "display_data"
    },
    {
     "data": {
      "application/vnd.jupyter.widget-view+json": {
       "model_id": "cad6dda1483a410782975b6e328b302b",
       "version_major": 2,
       "version_minor": 0
      },
      "text/plain": [
       "Characters processed from 'annotationsDerived' CLDR file for Swedish:   0%|          | 0/2122 [00:00<?, ?cldr …"
      ]
     },
     "metadata": {},
     "output_type": "display_data"
    },
    {
     "name": "stdout",
     "output_type": "stream",
     "text": [
      "Number of emoji trigger keywords found for Swedish: 2196\n",
      "Emoji autosuggestions for Swedish generated and saved to '../../../../Scribe-iOS/Keyboards/LanguageKeyboards/Swedish/Data/emoji_suggestions.json'.\n"
     ]
    }
   ],
   "source": [
    "# Languages: French, German, Italian, Portuguese, Russian, Spanish, Swedish\n",
    "language = \"French\"\n",
    "autosuggest_dict = gen_emoji_autosuggestions(\n",
    "    language=language,\n",
    "    num_emojis=None,\n",
    "    num_per_keyword=3,\n",
    "    ignore_keywords=None,\n",
    "    update_scribe_apps=True,\n",
    "    verbose=True,\n",
    ")"
   ]
  },
  {
   "cell_type": "code",
   "execution_count": null,
   "id": "27d35fc8",
   "metadata": {},
   "outputs": [],
   "source": []
  }
 ],
 "metadata": {
  "kernelspec": {
   "display_name": "Python [conda env:scribe-data-dev] *",
   "language": "python",
   "name": "conda-env-scribe-data-dev-py"
  },
  "language_info": {
   "codemirror_mode": {
    "name": "ipython",
    "version": 3
   },
   "file_extension": ".py",
   "mimetype": "text/x-python",
   "name": "python",
   "nbconvert_exporter": "python",
   "pygments_lexer": "ipython3",
   "version": "3.9.15"
  },
  "toc": {
   "base_numbering": 1,
   "nav_menu": {},
   "number_sections": true,
   "sideBar": true,
   "skip_h1_title": false,
   "title_cell": "Table of Contents",
   "title_sidebar": "Contents",
   "toc_cell": true,
   "toc_position": {},
   "toc_section_display": true,
   "toc_window_display": false
  }
 },
 "nbformat": 4,
 "nbformat_minor": 5
}
